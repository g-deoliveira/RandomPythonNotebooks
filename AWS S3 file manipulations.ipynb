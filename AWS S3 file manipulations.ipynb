{
 "cells": [
  {
   "cell_type": "markdown",
   "metadata": {},
   "source": [
    "# S3 file manipulations using boto3\n",
    "\n",
    "The purpose of this notebook is to illustrate how to move files in S3 buckets, by copying and deleting files using the boto3 python library.\n",
    "\n",
    "The example I will use consists of an S3 bucket that has three folders: <b>input</b>, <b>archived</b> and <b>errors</b>. \n",
    "\n",
    "<img src='files/s3_all_three_folders.png' width=400> <br>\n",
    "<par>\n",
    "Initially, the <b>archived</b> and <b>errors</b> folders are empty, whereas the <b>input</b> folder has a single file in it: *IF009_1.txt* <br>\n",
    "\n",
    "<img src='files/s3_input_folder.png' width=400>\n"
   ]
  },
  {
   "cell_type": "code",
   "execution_count": 1,
   "metadata": {
    "collapsed": true
   },
   "outputs": [],
   "source": [
    "import pandas as pd\n",
    "import yaml\n",
    "import boto3"
   ]
  },
  {
   "cell_type": "code",
   "execution_count": 2,
   "metadata": {
    "collapsed": false
   },
   "outputs": [],
   "source": [
    "# get authorization keys for S3\n",
    "with open('files/aws_config.yml', 'r') as f:\n",
    "    doc = yaml.load(f)\n",
    "    accessKey = doc['accessKey']\n",
    "    secretKey = doc['secretKey']\n",
    "    bucket_name = doc['bucket_name']"
   ]
  },
  {
   "cell_type": "code",
   "execution_count": 3,
   "metadata": {
    "collapsed": false
   },
   "outputs": [],
   "source": [
    "# instantiate S3 bucket \n",
    "s3 = boto3.resource('s3',\n",
    "                    aws_access_key_id=accessKey,\n",
    "                    aws_secret_access_key=secretKey)\n",
    "bucket = s3.Bucket(bucket_name)\n"
   ]
  },
  {
   "cell_type": "code",
   "execution_count": 4,
   "metadata": {
    "collapsed": false
   },
   "outputs": [],
   "source": [
    "# the paths to the input file and the destination where I want to move the input file to \n",
    "input_key = 'IF009_data/input/IF009_1.txt'\n",
    "output_key = 'IF009_data/archived/IF009_1.txt'\n"
   ]
  },
  {
   "cell_type": "code",
   "execution_count": 5,
   "metadata": {
    "collapsed": false
   },
   "outputs": [
    {
     "name": "stdout",
     "output_type": "stream",
     "text": [
      "200\n"
     ]
    }
   ],
   "source": [
    "# instantiate output object\n",
    "output_obj = bucket.Object(output_key)\n",
    "\n",
    "# copy file from input_key to output_key\n",
    "return_message = output_obj.copy_from(CopySource={'Bucket':bucket_name, 'Key':input_key})\n",
    "HTTP_Status = return_message[\"ResponseMetadata\"][\"HTTPStatusCode\"]\n",
    "print HTTP_Status"
   ]
  },
  {
   "cell_type": "markdown",
   "metadata": {},
   "source": [
    "This has successfully copied the file from the <b>input</b> folder to the <b>archived</b> folder. Now we need to remove the file from the <b>input</b> folder."
   ]
  },
  {
   "cell_type": "code",
   "execution_count": 6,
   "metadata": {
    "collapsed": false
   },
   "outputs": [],
   "source": [
    "# if the copy object call was successful, delete the original \n",
    "if str(HTTP_Status) == \"200\":\n",
    "    input_obj = bucket.Object(input_key)\n",
    "    delete_message = input_obj.delete()\n"
   ]
  },
  {
   "cell_type": "markdown",
   "metadata": {},
   "source": [
    "If you want to add a new folder, the key to the folder must end with a \"/\", otherwise the new folder will be added as a file."
   ]
  },
  {
   "cell_type": "code",
   "execution_count": 7,
   "metadata": {
    "collapsed": false
   },
   "outputs": [],
   "source": [
    "new_key = 'IF009_data/new_folder/'\n",
    "replace_folder = bucket.put_object(Bucket=bucket_name, Body='', Key=new_key)\n"
   ]
  },
  {
   "cell_type": "markdown",
   "metadata": {},
   "source": [
    "The new directory structure of the bucket looks as follows:<br>\n",
    "<img src='files/s3_new_folder.png' width=400>\n"
   ]
  },
  {
   "cell_type": "code",
   "execution_count": null,
   "metadata": {
    "collapsed": true
   },
   "outputs": [],
   "source": []
  },
  {
   "cell_type": "code",
   "execution_count": null,
   "metadata": {
    "collapsed": true
   },
   "outputs": [],
   "source": []
  }
 ],
 "metadata": {
  "anaconda-cloud": {},
  "kernelspec": {
   "display_name": "Python [conda root]",
   "language": "python",
   "name": "conda-root-py"
  },
  "language_info": {
   "codemirror_mode": {
    "name": "ipython",
    "version": 2
   },
   "file_extension": ".py",
   "mimetype": "text/x-python",
   "name": "python",
   "nbconvert_exporter": "python",
   "pygments_lexer": "ipython2",
   "version": "2.7.12"
  }
 },
 "nbformat": 4,
 "nbformat_minor": 2
}
